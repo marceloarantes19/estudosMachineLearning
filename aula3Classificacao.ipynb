{
 "cells": [
  {
   "cell_type": "code",
   "execution_count": 1,
   "id": "c9c981a7",
   "metadata": {},
   "outputs": [],
   "source": [
    "import matplotlib as mpl\n",
    "import matplotlib.pyplot as plt\n",
    "from sklearn import datasets, svm, metrics"
   ]
  },
  {
   "cell_type": "code",
   "execution_count": 2,
   "id": "12d3f3c2",
   "metadata": {},
   "outputs": [],
   "source": [
    "digits = datasets.load_digits()"
   ]
  },
  {
   "cell_type": "code",
   "execution_count": 3,
   "id": "5b3538c3",
   "metadata": {},
   "outputs": [
    {
     "data": {
      "image/png": "[encoded data removed]",
      "text/plain": [
       "<Figure size 432x288 with 4 Axes>"
      ]
     },
     "metadata": {
      "needs_background": "light"
     },
     "output_type": "display_data"
    }
   ],
   "source": [
    "images_and_labels = list(zip(digits.images, digits.target))\n",
    "for index, (image, label) in enumerate(images_and_labels[:4]):\n",
    "    plt.subplot(2, 4, index + 1)\n",
    "    plt.axis('off')\n",
    "    plt.title('Training: %i' % label)\n",
    "    plt.imshow(image, cmap='binary', interpolation='nearest')\n"
   ]
  },
  {
   "cell_type": "code",
   "execution_count": 4,
   "id": "60a679fe",
   "metadata": {},
   "outputs": [
    {
     "data": {
      "text/plain": [
       "(1797, 64)"
      ]
     },
     "execution_count": 4,
     "metadata": {},
     "output_type": "execute_result"
    }
   ],
   "source": [
    "X, y = digits['data'], digits['target']\n",
    "X.shape # 1797 valores (imagens) 8 x 8"
   ]
  },
  {
   "cell_type": "code",
   "execution_count": 5,
   "id": "f8f4b2fe",
   "metadata": {},
   "outputs": [
    {
     "data": {
      "text/plain": [
       "array([ 0.,  0.,  5., 13.,  9.,  1.,  0.,  0.,  0.,  0., 13., 15., 10.,\n",
       "       15.,  5.,  0.,  0.,  3., 15.,  2.,  0., 11.,  8.,  0.,  0.,  4.,\n",
       "       12.,  0.,  0.,  8.,  8.,  0.,  0.,  5.,  8.,  0.,  0.,  9.,  8.,\n",
       "        0.,  0.,  4., 11.,  0.,  1., 12.,  7.,  0.,  0.,  2., 14.,  5.,\n",
       "       10., 12.,  0.,  0.,  0.,  0.,  6., 13., 10.,  0.,  0.,  0.])"
      ]
     },
     "execution_count": 5,
     "metadata": {},
     "output_type": "execute_result"
    }
   ],
   "source": [
    "X[0]"
   ]
  },
  {
   "cell_type": "code",
   "execution_count": 6,
   "id": "14055a74",
   "metadata": {},
   "outputs": [
    {
     "data": {
      "text/plain": [
       "0"
      ]
     },
     "execution_count": 6,
     "metadata": {},
     "output_type": "execute_result"
    }
   ],
   "source": [
    "y[0]"
   ]
  },
  {
   "cell_type": "code",
   "execution_count": 22,
   "id": "8b1bbbb3",
   "metadata": {},
   "outputs": [
    {
     "data": {
      "text/plain": [
       "(-0.5, 7.5, 7.5, -0.5)"
      ]
     },
     "execution_count": 22,
     "metadata": {},
     "output_type": "execute_result"
    },
    {
     "data": {
      "image/png": "[encoded data removed]",
      "text/plain": [
       "<Figure size 432x288 with 1 Axes>"
      ]
     },
     "metadata": {
      "needs_background": "light"
     },
     "output_type": "display_data"
    }
   ],
   "source": [
    "plt.imshow(X[0].reshape(8,8), cmap='binary')\n",
    "plt.axis('off')"
   ]
  },
  {
   "cell_type": "code",
   "execution_count": 43,
   "id": "a2def1d4",
   "metadata": {},
   "outputs": [],
   "source": [
    "# Selecionando parte dos vetores para treinamento e teste\n",
    "nElem = int(len(X)*.8) # 80% dos elementos para treinamento e 20% para testes\n",
    "XTrain, XTest, yTrain, yTest = X[:nElem], X[nElem:], y[:nElem], y[nElem:]"
   ]
  },
  {
   "cell_type": "code",
   "execution_count": 44,
   "id": "d5ba70c9",
   "metadata": {},
   "outputs": [],
   "source": [
    "from sklearn.linear_model import SGDClassifier\n",
    "sgdClf = SGDClassifier(random_state=42)"
   ]
  },
  {
   "cell_type": "code",
   "execution_count": 45,
   "id": "67455805",
   "metadata": {},
   "outputs": [
    {
     "data": {
      "text/plain": [
       "SGDClassifier(random_state=42)"
      ]
     },
     "execution_count": 45,
     "metadata": {},
     "output_type": "execute_result"
    }
   ],
   "source": [
    "#Criando um classificador para o valor 5\n",
    "yTrain5 = (yTrain == 5)\n",
    "yTest5 = (yTest == 5)\n",
    "sgdClf.fit(XTrain, yTrain5) # Executando o treinamento"
   ]
  },
  {
   "cell_type": "code",
   "execution_count": 35,
   "metadata": {},
   "outputs": [
    {
     "data": {
      "text/plain": [
       "(-0.5, 7.5, 7.5, -0.5)"
      ]
     },
     "execution_count": 35,
     "metadata": {},
     "output_type": "execute_result"
    },
    {
     "data": {
      "image/png": "[encoded data removed]",
      "text/plain": [
       "<Figure size 432x288 with 1 Axes>"
      ]
     },
     "metadata": {
      "needs_background": "light"
     },
     "output_type": "display_data"
    }
   ],
   "source": [
    "plt.imshow(XTest[3].reshape(8,8), cmap='binary')\n",
    "plt.axis('off')"
   ]
  },
  {
   "cell_type": "code",
   "execution_count": 40,
   "id": "8042db9c",
   "metadata": {},
   "outputs": [
    {
     "data": {
      "text/plain": [
       "array([ True])"
      ]
     },
     "execution_count": 40,
     "metadata": {},
     "output_type": "execute_result"
    }
   ],
   "source": [
    "sgdClf.predict([XTest[3]])"
   ]
  },
  {
   "cell_type": "code",
   "execution_count": 55,
   "id": "96bbac8d",
   "metadata": {},
   "outputs": [
    {
     "name": "stdout",
     "output_type": "stream",
     "text": [
      "Relatório de Classificação: SGDClassifier(random_state=42)\n",
      "              precision    recall  f1-score   support\n",
      "\n",
      "       False       1.00      0.99      1.00       323\n",
      "        True       0.95      1.00      0.97        37\n",
      "\n",
      "    accuracy                           0.99       360\n",
      "   macro avg       0.97      1.00      0.99       360\n",
      "weighted avg       0.99      0.99      0.99       360\n",
      "\n",
      "\n"
     ]
    }
   ],
   "source": [
    "esperado = yTest5\n",
    "predito = sgdClf.predict(XTest)\n",
    "print(\"Relatório de Classificação: %s\\n%s\\n\" % (sgdClf, metrics.classification_report(esperado, predito)))"
   ]
  },
  {
   "cell_type": "code",
   "execution_count": 56,
   "id": "9b70a79c",
   "metadata": {},
   "outputs": [
    {
     "name": "stdout",
     "output_type": "stream",
     "text": [
      "Relatório de Classificação: SGDClassifier(random_state=42)\n",
      "              precision    recall  f1-score   support\n",
      "\n",
      "       False       0.99      1.00      0.99       431\n",
      "        True       0.98      0.88      0.92        48\n",
      "\n",
      "    accuracy                           0.99       479\n",
      "   macro avg       0.98      0.94      0.96       479\n",
      "weighted avg       0.99      0.99      0.99       479\n",
      "\n",
      "\n",
      "0.9853862212943633\n",
      "Relatório de Classificação: SGDClassifier(random_state=42)\n",
      "              precision    recall  f1-score   support\n",
      "\n",
      "       False       0.99      1.00      0.99       431\n",
      "        True       0.98      0.88      0.92        48\n",
      "\n",
      "    accuracy                           0.99       479\n",
      "   macro avg       0.98      0.94      0.96       479\n",
      "weighted avg       0.99      0.99      0.99       479\n",
      "\n",
      "\n",
      "0.9853862212943633\n",
      "Relatório de Classificação: SGDClassifier(random_state=42)\n",
      "              precision    recall  f1-score   support\n",
      "\n",
      "       False       1.00      0.99      0.99       430\n",
      "        True       0.89      0.96      0.92        49\n",
      "\n",
      "    accuracy                           0.98       479\n",
      "   macro avg       0.94      0.97      0.96       479\n",
      "weighted avg       0.98      0.98      0.98       479\n",
      "\n",
      "\n",
      "0.9832985386221295\n"
     ]
    }
   ],
   "source": [
    "# Validação Cruzada\n",
    "from sklearn.model_selection import StratifiedKFold\n",
    "from sklearn.base import clone\n",
    "skfolds = StratifiedKFold(n_splits=3)\n",
    "for trainIndex, testIndex in skfolds.split(XTrain, yTrain5):\n",
    "  cloneClf = clone(sgdClf)\n",
    "  XTrainFolds = XTrain[trainIndex]\n",
    "  yTrainFolds = yTrain5[trainIndex]\n",
    "  XTestFolds = XTrain[testIndex]\n",
    "  yTestFolds = yTrain5[testIndex]\n",
    "  cloneClf.fit(XTrainFolds, yTrainFolds)\n",
    "  yPred = cloneClf.predict(XTestFolds)\n",
    "  nCorrect = sum(yPred == yTestFolds)\n",
    "  print(\"Relatório de Classificação: %s\\n%s\\n\" % (cloneClf, metrics.classification_report(yTestFolds, yPred)))\n",
    "  print(nCorrect/len(yPred)) # Calculando a Acuracia"
   ]
  },
  {
   "cell_type": "code",
   "execution_count": 57,
   "id": "646ac9c3",
   "metadata": {},
   "outputs": [
    {
     "name": "stdout",
     "output_type": "stream",
     "text": [
      "Relatório de Classificação: SVC(gamma=0.001)\n",
      "              precision    recall  f1-score   support\n",
      "\n",
      "       False       1.00      0.99      1.00       323\n",
      "        True       0.95      1.00      0.97        37\n",
      "\n",
      "    accuracy                           0.99       360\n",
      "   macro avg       0.97      1.00      0.99       360\n",
      "weighted avg       0.99      0.99      0.99       360\n",
      "\n",
      "\n"
     ]
    }
   ],
   "source": [
    "# Classificador por vetor de apoio (support vector)\n",
    "svmClf = svm.SVC(gamma=0.001)\n",
    "svmClf.fit(XTrain, yTrain5)\n",
    "esperado2 = yTest5\n",
    "predito2 = svmClf.predict(XTest)\n",
    "print(\"Relatório de Classificação: %s\\n%s\\n\" % (svmClf, metrics.classification_report(esperado2, predito2)))"
   ]
  }
 ],
 "metadata": {
  "kernelspec": {
   "display_name": "Python 3 (ipykernel)",
   "language": "python",
   "name": "python3"
  },
  "language_info": {
   "codemirror_mode": {
    "name": "ipython",
    "version": 3
   },
   "file_extension": ".py",
   "mimetype": "text/x-python",
   "name": "python",
   "nbconvert_exporter": "python",
   "pygments_lexer": "ipython3",
   "version": "3.7.9"
  }
 },
 "nbformat": 4,
 "nbformat_minor": 5
}
