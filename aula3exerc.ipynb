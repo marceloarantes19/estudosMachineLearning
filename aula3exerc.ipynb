{
 "cells": [
  {
   "cell_type": "code",
   "execution_count": 7,
   "metadata": {},
   "outputs": [],
   "source": [
    "#Carregando os dados para as matrizes de Treinamento e de Teste\n",
    "import csv\n",
    "XTreino, XTeste, yTreino, yTeste = [], [], [], []\n",
    "with open('mnist_train.csv', 'r') as entrada:\n",
    "  ler = csv.reader(entrada)\n",
    "  next(ler)\n",
    "  for linha in ler:\n",
    "    Y = []\n",
    "    for j in linha:\n",
    "      Y.append(int(j))\n",
    "    XTreino.append(Y)\n",
    "for i in XTreino: \n",
    "  yTreino.append(i.pop(0))\n",
    "\n",
    "with open('mnist_test.csv', 'r') as entrada:\n",
    "  ler = csv.reader(entrada)\n",
    "  next(ler)\n",
    "  for linha in ler:\n",
    "    Y = []\n",
    "    for j in linha:\n",
    "      Y.append(int(j))\n",
    "    XTeste.append(Y)\n",
    "for i in XTeste: \n",
    "  yTeste.append(i.pop(0))\n",
    "\n",
    "#for i in range(0,10):\n",
    "#  print(i, yTeste[i], XTeste[i])\n"
   ]
  },
  {
   "cell_type": "code",
   "execution_count": 8,
   "metadata": {},
   "outputs": [
    {
     "name": "stdout",
     "output_type": "stream",
     "text": [
      "[[7. 0. 0. ... 0. 0. 0.]\n",
      " [2. 0. 0. ... 0. 0. 0.]\n",
      " [1. 0. 0. ... 0. 0. 0.]\n",
      " ...\n",
      " [4. 0. 0. ... 0. 0. 0.]\n",
      " [5. 0. 0. ... 0. 0. 0.]\n",
      " [6. 0. 0. ... 0. 0. 0.]]\n"
     ]
    }
   ],
   "source": [
    "import numpy as np\n",
    "\n",
    "with open('mnist_test.csv') as file_name:\n",
    "    array = np.loadtxt(file_name, delimiter=\",\")\n",
    "\n",
    "print(array)"
   ]
  },
  {
   "cell_type": "code",
   "execution_count": 9,
   "metadata": {},
   "outputs": [
    {
     "data": {
      "text/plain": [
       "(10000, 785)"
      ]
     },
     "execution_count": 9,
     "metadata": {},
     "output_type": "execute_result"
    }
   ],
   "source": [
    "array.shape"
   ]
  }
 ],
 "metadata": {
  "interpreter": {
   "hash": "be0233b55e9314e5d17da55d2ff668c34811124fdce84451253d3956182cb45e"
  },
  "kernelspec": {
   "display_name": "Python 3.7.9 ('estudosEmML': venv)",
   "language": "python",
   "name": "python3"
  },
  "language_info": {
   "codemirror_mode": {
    "name": "ipython",
    "version": 3
   },
   "file_extension": ".py",
   "mimetype": "text/x-python",
   "name": "python",
   "nbconvert_exporter": "python",
   "pygments_lexer": "ipython3",
   "version": "3.7.9"
  },
  "orig_nbformat": 4
 },
 "nbformat": 4,
 "nbformat_minor": 2
}
